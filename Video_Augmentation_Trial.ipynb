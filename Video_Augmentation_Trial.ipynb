{
 "cells": [
  {
   "cell_type": "code",
   "execution_count": 2,
   "id": "7eb90d15",
   "metadata": {
    "collapsed": true
   },
   "outputs": [
    {
     "name": "stdout",
     "output_type": "stream",
     "text": [
      "Collecting git+https://github.com/okankop/vidaug\n",
      "  Cloning https://github.com/okankop/vidaug to c:\\users\\ichsan\\appdata\\local\\temp\\pip-req-build-eh8dtlsb\n",
      "  Resolved https://github.com/okankop/vidaug to commit 1c1ddf2640fe4a9171267d64ae5e3bd70c24d54a\n",
      "Building wheels for collected packages: vidaug\n",
      "  Building wheel for vidaug (setup.py): started\n",
      "  Building wheel for vidaug (setup.py): finished with status 'done'\n",
      "  Created wheel for vidaug: filename=vidaug-0.1-py3-none-any.whl size=13176 sha256=1f8399829ed0ab8d6d39cd07a7297903931ea92217dc6bb1af291759089f1c23\n",
      "  Stored in directory: C:\\Users\\Ichsan\\AppData\\Local\\Temp\\pip-ephem-wheel-cache-5ohhyiyu\\wheels\\fc\\39\\83\\07d999993c59aded4a4e05ca2539f32742792189c56fbe4f06\n",
      "Successfully built vidaug\n",
      "Installing collected packages: vidaug\n",
      "Successfully installed vidaug-0.1\n"
     ]
    },
    {
     "name": "stderr",
     "output_type": "stream",
     "text": [
      "  Running command git clone -q https://github.com/okankop/vidaug 'C:\\Users\\Ichsan\\AppData\\Local\\Temp\\pip-req-build-eh8dtlsb'\n"
     ]
    }
   ],
   "source": [
    "!pip install git+https://github.com/okankop/vidaug"
   ]
  },
  {
   "cell_type": "code",
   "execution_count": 1,
   "id": "5caa65fe",
   "metadata": {},
   "outputs": [],
   "source": [
    "import cv2 # OpenCV\n",
    "import numpy as np\n",
    "import os # For manipulating directory\n",
    "from matplotlib import pyplot as plt\n",
    "from vidaug import augmentors as va\n",
    "from PIL import Image, ImageSequence"
   ]
  },
  {
   "cell_type": "code",
   "execution_count": 6,
   "id": "3c6a0131",
   "metadata": {
    "collapsed": true
   },
   "outputs": [
    {
     "ename": "TypeError",
     "evalue": "'cv2.VideoCapture' object is not subscriptable",
     "output_type": "error",
     "traceback": [
      "\u001b[1;31m---------------------------------------------------------------------------\u001b[0m",
      "\u001b[1;31mTypeError\u001b[0m                                 Traceback (most recent call last)",
      "\u001b[1;32m~\\AppData\\Local\\Temp/ipykernel_11220/3213328645.py\u001b[0m in \u001b[0;36m<module>\u001b[1;34m\u001b[0m\n\u001b[0;32m     11\u001b[0m     \u001b[1;31m# 'video' should be either a list of images from type of numpy array or PIL images\u001b[0m\u001b[1;33m\u001b[0m\u001b[1;33m\u001b[0m\u001b[0m\n\u001b[0;32m     12\u001b[0m     \u001b[0mvideo\u001b[0m \u001b[1;33m=\u001b[0m \u001b[0mcv2\u001b[0m\u001b[1;33m.\u001b[0m\u001b[0mVideoCapture\u001b[0m\u001b[1;33m(\u001b[0m\u001b[1;34m\"dataset/jack/denis_jack.avi\"\u001b[0m\u001b[1;33m)\u001b[0m\u001b[1;33m\u001b[0m\u001b[1;33m\u001b[0m\u001b[0m\n\u001b[1;32m---> 13\u001b[1;33m     \u001b[0mvideo_aug\u001b[0m \u001b[1;33m=\u001b[0m \u001b[0mseq\u001b[0m\u001b[1;33m(\u001b[0m\u001b[0mvideo\u001b[0m\u001b[1;33m)\u001b[0m\u001b[1;33m\u001b[0m\u001b[1;33m\u001b[0m\u001b[0m\n\u001b[0m\u001b[0;32m     14\u001b[0m     \u001b[0mtrain_on_video\u001b[0m\u001b[1;33m(\u001b[0m\u001b[0mvideo\u001b[0m\u001b[1;33m)\u001b[0m\u001b[1;33m\u001b[0m\u001b[1;33m\u001b[0m\u001b[0m\n",
      "\u001b[1;32mC:\\ProgramData\\Anaconda3\\lib\\site-packages\\vidaug\\augmentors\\group.py\u001b[0m in \u001b[0;36m__call__\u001b[1;34m(self, clip)\u001b[0m\n\u001b[0;32m     45\u001b[0m         \u001b[1;32melse\u001b[0m\u001b[1;33m:\u001b[0m\u001b[1;33m\u001b[0m\u001b[1;33m\u001b[0m\u001b[0m\n\u001b[0;32m     46\u001b[0m             \u001b[1;32mfor\u001b[0m \u001b[0mt\u001b[0m \u001b[1;32min\u001b[0m \u001b[0mself\u001b[0m\u001b[1;33m.\u001b[0m\u001b[0mtransforms\u001b[0m\u001b[1;33m:\u001b[0m\u001b[1;33m\u001b[0m\u001b[1;33m\u001b[0m\u001b[0m\n\u001b[1;32m---> 47\u001b[1;33m                 \u001b[0mclip\u001b[0m \u001b[1;33m=\u001b[0m \u001b[0mt\u001b[0m\u001b[1;33m(\u001b[0m\u001b[0mclip\u001b[0m\u001b[1;33m)\u001b[0m\u001b[1;33m\u001b[0m\u001b[1;33m\u001b[0m\u001b[0m\n\u001b[0m\u001b[0;32m     48\u001b[0m \u001b[1;33m\u001b[0m\u001b[0m\n\u001b[0;32m     49\u001b[0m         \u001b[1;32mreturn\u001b[0m \u001b[0mclip\u001b[0m\u001b[1;33m\u001b[0m\u001b[1;33m\u001b[0m\u001b[0m\n",
      "\u001b[1;32mC:\\ProgramData\\Anaconda3\\lib\\site-packages\\vidaug\\augmentors\\crop.py\u001b[0m in \u001b[0;36m__call__\u001b[1;34m(self, clip)\u001b[0m\n\u001b[0;32m    167\u001b[0m     \u001b[1;32mdef\u001b[0m \u001b[0m__call__\u001b[0m\u001b[1;33m(\u001b[0m\u001b[0mself\u001b[0m\u001b[1;33m,\u001b[0m \u001b[0mclip\u001b[0m\u001b[1;33m)\u001b[0m\u001b[1;33m:\u001b[0m\u001b[1;33m\u001b[0m\u001b[1;33m\u001b[0m\u001b[0m\n\u001b[0;32m    168\u001b[0m         \u001b[0mcrop_h\u001b[0m\u001b[1;33m,\u001b[0m \u001b[0mcrop_w\u001b[0m \u001b[1;33m=\u001b[0m \u001b[0mself\u001b[0m\u001b[1;33m.\u001b[0m\u001b[0msize\u001b[0m\u001b[1;33m\u001b[0m\u001b[1;33m\u001b[0m\u001b[0m\n\u001b[1;32m--> 169\u001b[1;33m         \u001b[1;32mif\u001b[0m \u001b[0misinstance\u001b[0m\u001b[1;33m(\u001b[0m\u001b[0mclip\u001b[0m\u001b[1;33m[\u001b[0m\u001b[1;36m0\u001b[0m\u001b[1;33m]\u001b[0m\u001b[1;33m,\u001b[0m \u001b[0mnp\u001b[0m\u001b[1;33m.\u001b[0m\u001b[0mndarray\u001b[0m\u001b[1;33m)\u001b[0m\u001b[1;33m:\u001b[0m\u001b[1;33m\u001b[0m\u001b[1;33m\u001b[0m\u001b[0m\n\u001b[0m\u001b[0;32m    170\u001b[0m             \u001b[0mim_h\u001b[0m\u001b[1;33m,\u001b[0m \u001b[0mim_w\u001b[0m\u001b[1;33m,\u001b[0m \u001b[0mim_c\u001b[0m \u001b[1;33m=\u001b[0m \u001b[0mclip\u001b[0m\u001b[1;33m[\u001b[0m\u001b[1;36m0\u001b[0m\u001b[1;33m]\u001b[0m\u001b[1;33m.\u001b[0m\u001b[0mshape\u001b[0m\u001b[1;33m\u001b[0m\u001b[1;33m\u001b[0m\u001b[0m\n\u001b[0;32m    171\u001b[0m         \u001b[1;32melif\u001b[0m \u001b[0misinstance\u001b[0m\u001b[1;33m(\u001b[0m\u001b[0mclip\u001b[0m\u001b[1;33m[\u001b[0m\u001b[1;36m0\u001b[0m\u001b[1;33m]\u001b[0m\u001b[1;33m,\u001b[0m \u001b[0mPIL\u001b[0m\u001b[1;33m.\u001b[0m\u001b[0mImage\u001b[0m\u001b[1;33m.\u001b[0m\u001b[0mImage\u001b[0m\u001b[1;33m)\u001b[0m\u001b[1;33m:\u001b[0m\u001b[1;33m\u001b[0m\u001b[1;33m\u001b[0m\u001b[0m\n",
      "\u001b[1;31mTypeError\u001b[0m: 'cv2.VideoCapture' object is not subscriptable"
     ]
    }
   ],
   "source": [
    "#batch_idx = cv2.VideoCapture(\"dataset/jack/denis_jack.avi\")\n",
    "\n",
    "sometimes = lambda aug: va.Sometimes(0.5, aug) # Used to apply augmentor with 50% probability\n",
    "seq = va.Sequential([\n",
    "    va.RandomCrop(size=(240, 180)), # randomly crop video with a size of (240 x 180)\n",
    "    va.RandomRotate(degrees=10), # randomly rotates the video with a degree randomly choosen from [-10, 10]  \n",
    "    sometimes(va.HorizontalFlip()) # horizontally flip the video with 50% probability\n",
    "])\n",
    "\n",
    "for batch_idx in range(1000):\n",
    "    # 'video' should be either a list of images from type of numpy array or PIL images\n",
    "    video = cv2.VideoCapture(\"dataset/jack/denis_jack.avi\")\n",
    "    video_aug = seq(video)\n",
    "    train_on_video(video)"
   ]
  },
  {
   "cell_type": "code",
   "execution_count": null,
   "id": "59758ebf",
   "metadata": {},
   "outputs": [],
   "source": [
    "def gif_loader(path, modality=\"RGB\"):\n",
    "    frames = []\n",
    "    with open(path, 'rb') as f:\n",
    "        with Image.open(f) as video:\n",
    "            index = 1\n",
    "            for frame in ImageSequence.Iterator(video):\n",
    "                frames.append(frame.convert(modality))\n",
    "                index += 1\n",
    "        return frames"
   ]
  },
  {
   "cell_type": "code",
   "execution_count": null,
   "id": "a278b464",
   "metadata": {},
   "outputs": [],
   "source": [
    "frames = gif_loader(\"../videos/salt.gif\")"
   ]
  },
  {
   "cell_type": "code",
   "execution_count": null,
   "id": "f5cdb623",
   "metadata": {},
   "outputs": [],
   "source": [
    "sometimes = lambda aug: va.Sometimes(1, aug) # Used to apply augmentor with 100% probability\n",
    "seq = va.Sequential([ # randomly rotates the video with a degree randomly choosen from [-10, 10]  \n",
    "    sometimes(va.HorizontalFlip()) # horizontally flip the video with 100% probability\n",
    "])"
   ]
  },
  {
   "cell_type": "code",
   "execution_count": null,
   "id": "676d8274",
   "metadata": {},
   "outputs": [],
   "source": [
    "#augment the frames\n",
    "video_aug = seq(frames)"
   ]
  },
  {
   "cell_type": "code",
   "execution_count": null,
   "id": "f1c3d31a",
   "metadata": {},
   "outputs": [],
   "source": [
    "# save augmentad frames as gif \n",
    "video_aug[0].save(\"out.gif\", save_all=True, append_images=video_aug[1:], duration=100, loop=0)"
   ]
  }
 ],
 "metadata": {
  "kernelspec": {
   "display_name": "Python 3 (ipykernel)",
   "language": "python",
   "name": "python3"
  },
  "language_info": {
   "codemirror_mode": {
    "name": "ipython",
    "version": 3
   },
   "file_extension": ".py",
   "mimetype": "text/x-python",
   "name": "python",
   "nbconvert_exporter": "python",
   "pygments_lexer": "ipython3",
   "version": "3.9.7"
  }
 },
 "nbformat": 4,
 "nbformat_minor": 5
}
